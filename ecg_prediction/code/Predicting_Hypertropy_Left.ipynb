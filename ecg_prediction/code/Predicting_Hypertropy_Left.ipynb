{
 "cells": [
  {
   "cell_type": "markdown",
   "metadata": {},
   "source": [
    "# Loading data and initializing parameters\n",
    "\n",
    "We set the parameters to load data from our dataset:\n",
    "- The sampling frequency (100Hz or 500Hz)\n",
    "- The folder in wich we can retrieve the CSV (labels of the ECG graphs and their datas)\n",
    "- The type of task (necessary for the code to run but only used for finetuning the model)\n",
    "- The number of classes (i.e. how many diseases are we trying to predict, 71 is the maximum for the PTBXL dataset)\n",
    "- The input shape (here we have 10 seconds of record and the standard 12-lead ECG, so input_shape=[sampling_freq * 10, 12])"
   ]
  },
  {
   "cell_type": "code",
   "execution_count": 1,
   "metadata": {},
   "outputs": [],
   "source": [
    "from utils import utils\n",
    "\n",
    "sampling_frequency=100\n",
    "datafolder='../data/ptbxl/'\n",
    "task='all'\n",
    "\n",
    "data, raw_labels = utils.load_dataset(datafolder, sampling_frequency)\n",
    "labels = utils.compute_label_aggregations(raw_labels, datafolder, task)\n",
    "\n",
    "num_classes = 71         # <=== number of classes in the finetuning dataset\n",
    "input_shape = [1000,12] # <=== shape of samples, [None, 12] in case of different lengths"
   ]
  },
  {
   "cell_type": "markdown",
   "metadata": {},
   "source": [
    "# Loading the pretrained model\n",
    "\n",
    "We load the pretrained model **'xresnet1d101'**, which shows the best results for our task (92.5% overall accuracy)"
   ]
  },
  {
   "cell_type": "code",
   "execution_count": 2,
   "metadata": {},
   "outputs": [],
   "source": [
    "from models.fastai_model import fastai_model\n",
    "\n",
    "experiment = 'exp0'\n",
    "modelname = 'fastai_xresnet1d101'\n",
    "pretrainedfolder = '../output/'+experiment+'/models/'+modelname+'/'\n",
    "mpath='../output/'+experiment+'/models/'+modelname+'/' # path where the finetuned model will be stored\n",
    "n_classes_pretrained = 71 # the number of classes the model has been trained on\n",
    "\n",
    "model = fastai_model(\n",
    "    modelname, \n",
    "    num_classes, \n",
    "    sampling_frequency, \n",
    "    mpath, \n",
    "    input_shape=input_shape, \n",
    "    pretrainedfolder=pretrainedfolder,\n",
    "    n_classes_pretrained=n_classes_pretrained, \n",
    "    pretrained=True,\n",
    "    epochs_finetuning=2,\n",
    ")"
   ]
  },
  {
   "cell_type": "markdown",
   "metadata": {},
   "source": [
    "# Preprocess data with pretrained Standardizer\n",
    "\n",
    "Since the model was trained with inputs standardized to zero mean and unit variance, our data needs to be standardized with the respective mean and variance. This is also provided in the respective experiment folder `output/expX/data/standard_scaler.pkl`"
   ]
  },
  {
   "cell_type": "code",
   "execution_count": 3,
   "metadata": {},
   "outputs": [],
   "source": [
    "import pickle\n",
    "\n",
    "standard_scaler = pickle.load(open('../output/'+experiment+'/data/standard_scaler.pkl', \"rb\"))\n",
    "\n",
    "X_val = data[labels.strat_fold == 11]\n",
    "X_val = utils.apply_standardizer(X_val, standard_scaler)"
   ]
  },
  {
   "cell_type": "markdown",
   "metadata": {},
   "source": [
    "# Prediction"
   ]
  },
  {
   "cell_type": "code",
   "execution_count": 4,
   "metadata": {},
   "outputs": [
    {
     "name": "stdout",
     "output_type": "stream",
     "text": [
      "model: fastai_xresnet1d101\n"
     ]
    },
    {
     "data": {
      "text/html": [
       "\n",
       "<style>\n",
       "    /* Turns off some styling */\n",
       "    progress {\n",
       "        /* gets rid of default border in Firefox and Opera. */\n",
       "        border: none;\n",
       "        /* Needs to be in here for Safari polyfill so background images work as expected. */\n",
       "        background-size: auto;\n",
       "    }\n",
       "    progress:not([value]), progress:not([value])::-webkit-progress-bar {\n",
       "        background: repeating-linear-gradient(45deg, #7e7e7e, #7e7e7e 10px, #5c5c5c 10px, #5c5c5c 20px);\n",
       "    }\n",
       "    .progress-bar-interrupted, .progress-bar-interrupted::-webkit-progress-bar {\n",
       "        background: #F44336;\n",
       "    }\n",
       "</style>\n"
      ],
      "text/plain": [
       "<IPython.core.display.HTML object>"
      ]
     },
     "metadata": {},
     "output_type": "display_data"
    },
    {
     "data": {
      "text/html": [],
      "text/plain": [
       "<IPython.core.display.HTML object>"
      ]
     },
     "metadata": {},
     "output_type": "display_data"
    },
    {
     "name": "stdout",
     "output_type": "stream",
     "text": [
      "aggregating predictions...\n"
     ]
    }
   ],
   "source": [
    "y_val_pred = model.predict(X_val)"
   ]
  },
  {
   "cell_type": "markdown",
   "metadata": {},
   "source": [
    "# Sending result to the API\n",
    "\n",
    "We calculate rounded percentage prediction for the 44th class, wich corresponds to the disease **Left Ventrical Hypertrophy**, for one of the predicted ECG.  \n",
    "Then, we send it to the server via our Django API endpoint."
   ]
  },
  {
   "cell_type": "code",
   "execution_count": 15,
   "metadata": {},
   "outputs": [
    {
     "name": "stdout",
     "output_type": "stream",
     "text": [
      "90.9\n"
     ]
    }
   ],
   "source": [
    "import requests\n",
    "\n",
    "testing_index = 5\n",
    "percent_prediction = round(y_val_pred[testing_index][43] * 100, 1)\n",
    "print(percent_prediction)\n",
    "\n",
    "requests.put(\"http://lauzhack.grelgp.com/set_ecg_value\", json = {'ecg_value': str(percent_prediction)})\n",
    "\n",
    "# Plotting the ECG\n",
    "import matplotlib.pyplot as plt\n",
    "plot_vals=[x[0] for x in X_val[testing_index]]\n",
    "\n",
    "plt.plot(plot_vals)\n",
    "plt.show()\n",
    "\n",
    "requests.post(\"http://lauzhack.grelgp.com/create_img\", json = {'plot_vals': plot_vals})"
   ]
  }
 ],
 "metadata": {
  "kernelspec": {
   "display_name": "Python 3 (ipykernel)",
   "language": "python",
   "name": "python3"
  },
  "language_info": {
   "codemirror_mode": {
    "name": "ipython",
    "version": 3
   },
   "file_extension": ".py",
   "mimetype": "text/x-python",
   "name": "python",
   "nbconvert_exporter": "python",
   "pygments_lexer": "ipython3",
   "version": "3.10.11"
  }
 },
 "nbformat": 4,
 "nbformat_minor": 4
}
